{
 "cells": [
  {
   "cell_type": "markdown",
   "metadata": {
    "colab_type": "text",
    "id": "zxxFEYkn7ko0"
   },
   "source": [
    "Weiyu Wang (ww2508)  \n",
    "Hsiao-Yuan Lin (hl3204)  \n",
    "Link to Google Colaboratory: https://colab.research.google.com/drive/10N_V3xANxD8P3ttWQFRtZfAnuEnqM4HS#scrollTo=zxxFEYkn7ko0"
   ]
  },
  {
   "cell_type": "markdown",
   "metadata": {
    "colab_type": "text",
    "id": "ebWMgTLu2RVe"
   },
   "source": [
    "# 1. Fully Connected Network from Scratch\n"
   ]
  },
  {
   "cell_type": "markdown",
   "metadata": {
    "colab_type": "text",
    "id": "IuJOKTlxfvx4"
   },
   "source": [
    "## 1.1 Loading the CIFAR10 Dataset"
   ]
  },
  {
   "cell_type": "code",
   "execution_count": 0,
   "metadata": {
    "colab": {},
    "colab_type": "code",
    "id": "iTl_bjvZhw2z"
   },
   "outputs": [],
   "source": [
    "import numpy as np\n",
    "def softmaxAL(X):\n",
    "    #print('softmax input', X)\n",
    "    shiftx = X - np.max(X)\n",
    "    exps = np.exp(shiftx)\n",
    "    return exps / np.sum(exps)"
   ]
  },
  {
   "cell_type": "code",
   "execution_count": 0,
   "metadata": {
    "colab": {
     "base_uri": "https://localhost:8080/",
     "height": 52
    },
    "colab_type": "code",
    "id": "lghY61tJeyrJ",
    "outputId": "c1d565ac-3f58-49ce-c4b3-8864a3f13ba4"
   },
   "outputs": [
    {
     "name": "stdout",
     "output_type": "stream",
     "text": [
      "Files already downloaded and verified\n",
      "Files already downloaded and verified\n"
     ]
    }
   ],
   "source": [
    "import torch, torchvision\n",
    "transform = torchvision.transforms.Compose([torchvision.transforms.ToTensor(), torchvision.transforms.Normalize((0.5, 0.5, 0.5), (0.5, 0.5, 0.5))])\n",
    "trainset = torchvision.datasets.CIFAR10(root='./data', train=True, download=True, transform=transform)\n",
    "testset = torchvision.datasets.CIFAR10(root='./data', train=False, download=True, transform=transform)"
   ]
  },
  {
   "cell_type": "code",
   "execution_count": 0,
   "metadata": {
    "colab": {},
    "colab_type": "code",
    "id": "0Nyc43Ii6GHM"
   },
   "outputs": [],
   "source": [
    "c, l, w = trainset[0][0].shape\n",
    "n_train, n_test = len(trainset), len(testset)\n",
    "\n",
    "X_train, X_test = np.zeros([n_train, c * l * w]), np.zeros([n_test, c * l * w])\n",
    "y_train, y_test = np.zeros([n_train]), np.zeros([n_test])\n",
    "\n",
    "for i in range(n_train):\n",
    "    X_train[i] = trainset[i][0].numpy().flatten()\n",
    "    y_train[i] = trainset[i][1]\n",
    "  \n",
    "for i in range(n_test):\n",
    "    X_test[i] = testset[i][0].numpy().flatten()\n",
    "    y_test[i] = testset[i][1]\n",
    "\n",
    "y_train, y_test = y_train.astype(int), y_test.astype(int)"
   ]
  },
  {
   "cell_type": "code",
   "execution_count": 0,
   "metadata": {
    "colab": {},
    "colab_type": "code",
    "id": "HgDhYZ1je8qS"
   },
   "outputs": [],
   "source": [
    "ind = np.random.permutation(len(X_train))\n",
    "X_train, y_train = X_train[ind], y_train[ind]\n",
    "\n",
    "# split training/validation dataset\n",
    "validation_split = 0.1\n",
    "n_train = int(X_train.shape[0]*(1-validation_split))\n",
    "X_train, X_valid = X_train[:n_train], X_train[n_train:]\n",
    "y_train, y_valid = y_train[:n_train], y_train[n_train:]"
   ]
  },
  {
   "cell_type": "markdown",
   "metadata": {
    "colab_type": "text",
    "id": "okZVsZVOf7vZ"
   },
   "source": [
    "## 1.2 Implementing the Network"
   ]
  },
  {
   "cell_type": "code",
   "execution_count": 0,
   "metadata": {
    "cellView": "both",
    "colab": {},
    "colab_type": "code",
    "id": "geqzdtbLf3Uz"
   },
   "outputs": [],
   "source": [
    "#@title\n",
    "class NeuralNetwork:\n",
    "    #layer_dimensions: a list, i-th element in the list represents num of units in i-th layer\n",
    "    def __init__(self, layer_dimensions):\n",
    "        self.layer_dimensions = layer_dimensions\n",
    "        self.W = []\n",
    "        self.b = []\n",
    "        #W, b are matrix\n",
    "        #W[i]: i-th layer\n",
    "        #initialize weights and bias\n",
    "        for i in range(1, len(self.layer_dimensions)):\n",
    "            eps = np.sqrt(2.0/(self.layer_dimensions[i] + self.layer_dimensions[i-1]))\n",
    "            W_i = np.random.randn(self.layer_dimensions[i], self.layer_dimensions[i-1]) * eps\n",
    "            self.W.append(W_i)\n",
    "            b_i = np.zeros((self.layer_dimensions[i], 1)) + 0.01\n",
    "            b_i = b_i.reshape((b_i.shape[0], 1))\n",
    "            self.b.append(b_i)\n",
    "        \n",
    "    def affineForward(self, A, W, b):\n",
    "        # print(A.shape)\n",
    "        tmp = np.matmul(W, A)\n",
    "        tmp = tmp.reshape((tmp.shape[0], 1))\n",
    "        result = np.add(tmp, b)\n",
    "        return result\n",
    "    \n",
    "    def activationForward(self, A):\n",
    "        return np.maximum(0, A)\n",
    "    \n",
    "    def forwardPropagation(self, X):\n",
    "        #call affineForward\n",
    "        batch_size = X.shape[0]\n",
    "        #print('bs', batch_size)\n",
    "        a_matrix = np.zeros((batch_size, self.layer_dimensions[-1]))\n",
    "        cache_matrix = []\n",
    "        for idx, one_x in enumerate(X):    \n",
    "          # final A should be a matrix: 一个batch里的所有sample的aL叠在一起\n",
    "          #feedforward\n",
    "          cache = [(one_x, one_x)]\n",
    "          a = one_x\n",
    "          #print(one_x[0])\n",
    "          for i in range(len(self.layer_dimensions)-2):\n",
    "              z_i = self.affineForward(a, self.W[i], self.b[i])\n",
    "              #print(z_i[0])\n",
    "              a_i = self.activationForward(z_i)\n",
    "              cache.append((z_i, a_i))\n",
    "              a = a_i\n",
    "          z_i = self.affineForward(a, self.W[-1], self.b[-1])\n",
    "          # print(z_i[0])\n",
    "          a_i = softmaxAL(z_i)\n",
    "          cache.append((z_i, a_i))\n",
    "          a = a_i\n",
    "          a_matrix[idx] = np.reshape(a, (a.shape[0]))\n",
    "          cache_matrix.append(cache)\n",
    "        \n",
    "        a_matrix = np.asarray(a_matrix)\n",
    "        cache_matrix = np.asarray(cache_matrix)\n",
    "        return a_matrix, cache_matrix\n",
    "        \n",
    "    def costFunction(self, AL, y):\n",
    "        # AL: after softmax\n",
    "        m = y.shape[0]\n",
    "        correct_label_prob = AL[range(m), y]\n",
    "        \n",
    "        cost = -np.sum(np.log(correct_label_prob)) / m\n",
    "        return cost\n",
    "    \n",
    "    def affineBackward(self, dA_prev, cache):\n",
    "        # dA_prev: specify the layer(e.g. dA_prev = 2)\n",
    "        # calculate dZ3/dA2 = W3, W3=W[2]\n",
    "        return self.W[dA_prev]\n",
    "        \n",
    "    def activationBackward(self, dA, cache):\n",
    "        # take the derivative of dA_l w.r.t. z_l, A_l = g(z_l), g: ReLU\n",
    "        # in cache: z_l\n",
    "        # dA: specify the layer(e.g. dA = 2)\n",
    "        \n",
    "        # Note: cache[dA][0] could actually be a matrix of 0 and 1\n",
    "        z_l = [cache[i][dA][0] for i in range(cache.shape[0])]\n",
    "        result = np.zeros([len(z_l), len(z_l[0])])\n",
    "        # result =[[0 for i in range(len(z_l[0]))] for j in range(len(z_l))]\n",
    "        for i in range(len(z_l)):\n",
    "          for j in range(len(z_l[0])):\n",
    "            if z_l[i][j] > 0:\n",
    "              result[i][j] = 1\n",
    "        # result = np.asarray(result)\n",
    "        return result\n",
    "\n",
    "      \n",
    "    def backPropagation(self, dAL, Y, cache):\n",
    "        # L means the last layer\n",
    "        # Y: the correct labels, the shape is 100x1(if bath size is 100)\n",
    "        # dAL: the activation of the last layer, should be size 100x10 nparray\n",
    "        # return: gradients [(dW3, db3), (dW2, db2), (dW1, db1)]\n",
    "        \n",
    "        # For the last layer especially\n",
    "        # suppose 3 is the last layer\n",
    "        # dL/dW3 = dL/dZ3*dZ3/dW3\n",
    "\n",
    "        #convert Y to matrix of indicator vectors(size 100x10)\n",
    "        Y_iv = []\n",
    "        for i in range(Y.shape[0]):\n",
    "            tmp = [0 for i in range(self.layer_dimensions[-1])]\n",
    "            tmp[int(Y[i])] = 1\n",
    "            Y_iv.append(tmp)\n",
    "        Y_iv = np.asarray(Y_iv)\n",
    "        \n",
    "        gradients = []\n",
    "        #print('dAL', dAL)\n",
    "        # compute dL/dZ3, dL/dZL=dL/dAL*dAL/dZL cross entropy+softmax can be computed together:\n",
    "        # dL_dzl = np.subtract(dAL, Y_iv)\n",
    "        #print('dAL shape', dAL.shape)\n",
    "        dL_dzl = dAL.T - Y_iv.T\n",
    "        #print('dL_dzl shape', dL_dzl.shape)\n",
    "        # dL/dW3 = dL/dZ3*dZ3/dW3 = dL/dZ3* A2\n",
    "        A_prev = [cache[i][-2][1] for i in range(cache.shape[0])]\n",
    "        A_prev = np.asarray(A_prev)\n",
    "        A_prev = np.reshape(A_prev, (A_prev.shape[0], A_prev.shape[1]))\n",
    "\n",
    "        dL_dWl = np.matmul(dL_dzl, A_prev)\n",
    "        # dL/db3 = dL/dZ3*dZ3/db3 = dL/dZ3\n",
    "        # print(\"dL_dW2:\", dL_dWl)\n",
    "        # get the avg of dZ3, as a column\n",
    "        dL_dzl_avg = dL_dzl.sum(axis=1)/dL_dzl.shape[1]\n",
    "        dL_dbl = dL_dzl_avg\n",
    "        dL_dbl = dL_dbl.reshape((dL_dbl.shape[0], 1))\n",
    "        \n",
    "        gradients.append((dL_dWl, dL_dbl))\n",
    "        \n",
    "        dL_dzpost = dL_dzl\n",
    "        # start from the second last layer:\n",
    "        for i in range(len(self.layer_dimensions)-2, 0, -1):\n",
    "          # compute dL/dW2 = dL/dZ3*dZ3/dA2*dA2/dZ2*dZ2/dW2(A1)\n",
    "          # affineBackward: calculate dZ3/dA2\n",
    "          dZpost_dAi = self.affineBackward(i, cache)\n",
    "          # activationBackward: calculate dA2/dZ2\n",
    "          dAi_dZi = self.activationBackward(i, cache)\n",
    "          # dZ2/dW2 = A1\n",
    "          \n",
    "          \n",
    "          A_prev = [cache[j][i-1][1] for j in range(cache.shape[0])]\n",
    "          A_prev = np.asarray(A_prev)\n",
    "          A_prev = np.reshape(A_prev, (A_prev.shape[0], A_prev.shape[1]))\n",
    " \n",
    "          \n",
    "          dZi_dWi = A_prev\n",
    "          \n",
    "\n",
    "          #dL_dZi = dL_dzpost*dZpost_dAi*dAi_dZi\n",
    "          \n",
    "          tmp = np.matmul(np.transpose(dL_dzpost), dZpost_dAi)\n",
    "          dL_dZi = tmp * dAi_dZi\n",
    "        \n",
    "          dL_dZi = np.transpose(dL_dZi)\n",
    "          dL_dzpost = dL_dZi\n",
    "          \n",
    "          \n",
    "          \n",
    "          # dL_dWi = dL_dZi*dZi_dWi\n",
    "          \n",
    "          dL_dWi = np.matmul(dL_dZi, dZi_dWi)\n",
    "          \n",
    "          #print(dL_dWi.shape)\n",
    "\n",
    "          #dL/db2 = dL/dZ2*dZ3/db2 = dL/dZ2\n",
    "          \n",
    "          \n",
    "          dL_dzi_avg = dL_dZi.sum(axis=1)/dL_dZi.shape[1]\n",
    "          dL_dbi = dL_dzi_avg\n",
    "          dL_dbi = dL_dbi.reshape((dL_dbi.shape[0], 1))\n",
    "\n",
    "          gradients.append((dL_dWi, dL_dbi))\n",
    "        \n",
    "        return gradients\n",
    "                \n",
    "      \n",
    "    def updateParameters(self, gradients, alpha):\n",
    "        # gradients:[(dW3, db3), (dW2, db2), (dW1, db1)]\n",
    "        gradients = gradients[::-1]\n",
    "#         print(\"max(self.W[0])\")\n",
    "#         print(np.amax(self.W[0]))\n",
    "        for i in range(len(gradients)):\n",
    "          self.W[i] = self.W[i] - alpha*gradients[i][0]\n",
    "          self.b[i] = self.b[i] - alpha*gradients[i][1]\n",
    "#           print(self.b[i].shape)\n",
    "        \n",
    "        \n",
    "    def predict(self, X_new): \n",
    "        predict_results = []\n",
    "        last_activations,_ = self.forwardPropagation(X_new)\n",
    "        for i in range(last_activations.shape[0]):\n",
    "          output = softmaxAL(last_activations[i])\n",
    "          (val, idx) = max((v, i) for i, v in enumerate(output))\n",
    "          predict_results.append(idx)\n",
    "        return predict_results\n",
    "\n",
    "      \n",
    "      \n",
    "    def train(self, X_train, X_val, y_train, y_val, iters, alpha, batch_size):\n",
    "     \n",
    "        #feedward -> costfunction -> backpropagation(affinebackward, activationbackward) -> return gradient -> updateParameters\n",
    "          \n",
    "        n_batch = int(np.ceil(X_train.shape[0]/batch_size))\n",
    "        for epoch in range(iters):\n",
    "#           print(\"self.W[0][0]\")\n",
    "#           print(self.W[0][0])\n",
    "#           print(\"self.b[0][0]\")\n",
    "#           print(self.b[0][0])\n",
    "          loss = 0\n",
    "          correct = 0\n",
    "          for idx in range(n_batch):\n",
    "            # print(\"current batch:\", idx)\n",
    "            start_idx = idx*batch_size\n",
    "            end_idx = min(X_train.shape[0], start_idx+batch_size)\n",
    "            #aL is the last activation value\n",
    "            \n",
    "            AL, cache = self.forwardPropagation(X_train[start_idx:end_idx])\n",
    "            AL = np.reshape(AL, (AL.shape[0], AL.shape[1]))\n",
    "            loss += self.costFunction(AL, y_train[start_idx:end_idx]) * (end_idx - start_idx)\n",
    "            pred = self.predict(X_train[start_idx:end_idx])\n",
    "            for i in range(len(pred)):\n",
    "              if pred[i] == y_train[start_idx + i]:\n",
    "                correct += 1\n",
    "            \n",
    "            gradients = self.backPropagation(AL, y_train[start_idx:end_idx], cache)\n",
    "            self.updateParameters(gradients, alpha)\n",
    "          loss /= X_train.shape[0]\n",
    "          acc = correct/len(y_train)\n",
    "          # compute validation accuaracy:\n",
    "          correct = 0\n",
    "          predict_results = self.predict(X_val)\n",
    "          for i in range(len(predict_results)):\n",
    "             if predict_results[i] == y_val[i]:\n",
    "                correct += 1\n",
    "          vacc = correct/len(predict_results)\n",
    "          print(\"Current epoch:\", epoch + 1)\n",
    "          print(\"Training loss:\", loss)\n",
    "          print(\"Training accuracy:\", acc)\n",
    "          print(\"Validation accuracy:\", vacc)\n",
    "          print(\"=================================\")\n",
    "\n",
    "        \n",
    "        \n",
    "      "
   ]
  },
  {
   "cell_type": "code",
   "execution_count": 0,
   "metadata": {
    "colab": {
     "base_uri": "https://localhost:8080/",
     "height": 1794
    },
    "colab_type": "code",
    "id": "3vgqfMwHuxsj",
    "outputId": "5b7d8803-4f8a-4820-e0b8-7b5b773d87d0"
   },
   "outputs": [
    {
     "name": "stdout",
     "output_type": "stream",
     "text": [
      "Current epoch: 1\n",
      "Training loss: 1.6597720396994116\n",
      "Training accuracy: 0.4079333333333333\n",
      "Validation accuracy: 0.463\n",
      "=================================\n",
      "Current epoch: 2\n",
      "Training loss: 1.4248581374844327\n",
      "Training accuracy: 0.4978222222222222\n",
      "Validation accuracy: 0.4902\n",
      "=================================\n",
      "Current epoch: 3\n",
      "Training loss: 1.3031134170808192\n",
      "Training accuracy: 0.5422\n",
      "Validation accuracy: 0.5024\n",
      "=================================\n",
      "Current epoch: 4\n",
      "Training loss: 1.2011957630758692\n",
      "Training accuracy: 0.5801111111111111\n",
      "Validation accuracy: 0.5136\n",
      "=================================\n",
      "Current epoch: 5\n",
      "Training loss: 1.1108735902472904\n",
      "Training accuracy: 0.6145333333333334\n",
      "Validation accuracy: 0.5166\n",
      "=================================\n",
      "Current epoch: 6\n",
      "Training loss: 1.0278484144668754\n",
      "Training accuracy: 0.6450222222222223\n",
      "Validation accuracy: 0.5198\n",
      "=================================\n",
      "Current epoch: 7\n",
      "Training loss: 0.9430014365771611\n",
      "Training accuracy: 0.6748666666666666\n",
      "Validation accuracy: 0.5222\n",
      "=================================\n",
      "Current epoch: 8\n",
      "Training loss: 0.8665934347609813\n",
      "Training accuracy: 0.7045111111111111\n",
      "Validation accuracy: 0.5224\n",
      "=================================\n",
      "Current epoch: 9\n",
      "Training loss: 0.7942614055494501\n",
      "Training accuracy: 0.7293333333333333\n",
      "Validation accuracy: 0.5142\n",
      "=================================\n",
      "Current epoch: 10\n",
      "Training loss: 0.7500151127375291\n",
      "Training accuracy: 0.7453555555555555\n",
      "Validation accuracy: 0.5036\n",
      "=================================\n",
      "Current epoch: 11\n",
      "Training loss: 0.6880492037152753\n",
      "Training accuracy: 0.7669555555555555\n",
      "Validation accuracy: 0.5138\n",
      "=================================\n",
      "Current epoch: 12\n",
      "Training loss: 0.6299708587038445\n",
      "Training accuracy: 0.7871111111111111\n",
      "Validation accuracy: 0.5076\n",
      "=================================\n",
      "Current epoch: 13\n",
      "Training loss: 0.5793774409013035\n",
      "Training accuracy: 0.8051333333333334\n",
      "Validation accuracy: 0.4964\n",
      "=================================\n",
      "Current epoch: 14\n",
      "Training loss: 0.5465611863339611\n",
      "Training accuracy: 0.8153333333333334\n",
      "Validation accuracy: 0.512\n",
      "=================================\n",
      "Current epoch: 15\n",
      "Training loss: 0.5211240186577932\n",
      "Training accuracy: 0.8248888888888889\n",
      "Validation accuracy: 0.5054\n",
      "=================================\n",
      "Current epoch: 16\n",
      "Training loss: 0.4755072651786129\n",
      "Training accuracy: 0.8400888888888889\n",
      "Validation accuracy: 0.515\n",
      "=================================\n",
      "Current epoch: 17\n",
      "Training loss: 0.44083275262225635\n",
      "Training accuracy: 0.8506666666666667\n",
      "Validation accuracy: 0.5\n",
      "=================================\n",
      "Current epoch: 18\n",
      "Training loss: 0.4138443795466741\n",
      "Training accuracy: 0.8607333333333334\n",
      "Validation accuracy: 0.509\n",
      "=================================\n",
      "Current epoch: 19\n",
      "Training loss: 0.39214843573346225\n",
      "Training accuracy: 0.8674222222222222\n",
      "Validation accuracy: 0.5102\n",
      "=================================\n",
      "Current epoch: 20\n",
      "Training loss: 0.3677697438415771\n",
      "Training accuracy: 0.8769333333333333\n",
      "Validation accuracy: 0.5032\n",
      "=================================\n"
     ]
    }
   ],
   "source": [
    "layer_dimensions = [3072, 1000, 100, 10]\n",
    "nn_test = NeuralNetwork(layer_dimensions)\n",
    "nn_test.train(X_train, X_valid, y_train, y_valid, 20, 0.001, 128)"
   ]
  },
  {
   "cell_type": "markdown",
   "metadata": {
    "colab_type": "text",
    "id": "X79ZOOBeGd4W"
   },
   "source": [
    "**1.3 Predict Selected Images**"
   ]
  },
  {
   "cell_type": "code",
   "execution_count": 0,
   "metadata": {
    "colab": {},
    "colab_type": "code",
    "id": "FOqWBWwTGqbJ"
   },
   "outputs": [],
   "source": [
    "import matplotlib.pyplot as plt\n",
    "def imshow(img):\n",
    "  img = img / 2 + 0.5# unnormalize\n",
    "  npimg = img.numpy()\n",
    "  plt.imshow(np.transpose(npimg, (1, 2, 0)))"
   ]
  },
  {
   "cell_type": "code",
   "execution_count": 0,
   "metadata": {
    "colab": {
     "base_uri": "https://localhost:8080/",
     "height": 364
    },
    "colab_type": "code",
    "id": "j4g7VnSDHGwW",
    "outputId": "0c4397f8-5342-44f1-8f01-700745b75a52"
   },
   "outputs": [
    {
     "name": "stdout",
     "output_type": "stream",
     "text": [
      "Predicted label:  [6]\n"
     ]
    },
    {
     "data": {
      "image/png": "[encoded data removed]",
      "text/plain": [
       "<Figure size 576x396 with 1 Axes>"
      ]
     },
     "metadata": {
      "tags": []
     },
     "output_type": "display_data"
    }
   ],
   "source": [
    "# display and predict firt test image \n",
    "imshow(testset[7][0])\n",
    "testimg = np.asarray([X_test[7]])\n",
    "predicted = nn_test.predict(testimg)\n",
    "print(\"Predicted label: \", predicted)"
   ]
  },
  {
   "cell_type": "code",
   "execution_count": 0,
   "metadata": {
    "colab": {
     "base_uri": "https://localhost:8080/",
     "height": 364
    },
    "colab_type": "code",
    "id": "_E8N7snxS0JO",
    "outputId": "f927dfbd-766b-4942-9aad-18b750797f4a"
   },
   "outputs": [
    {
     "name": "stdout",
     "output_type": "stream",
     "text": [
      "Predicted label:  [0]\n"
     ]
    },
    {
     "data": {
      "image/png": "[encoded data removed]",
      "text/plain": [
       "<Figure size 576x396 with 1 Axes>"
      ]
     },
     "metadata": {
      "tags": []
     },
     "output_type": "display_data"
    }
   ],
   "source": [
    "# display and predict second test image \n",
    "imshow(testset[10][0])\n",
    "testimg = np.asarray([X_test[10]])\n",
    "predicted = nn_test.predict(testimg)\n",
    "print(\"Predicted label: \", predicted)"
   ]
  },
  {
   "cell_type": "code",
   "execution_count": 0,
   "metadata": {
    "colab": {
     "base_uri": "https://localhost:8080/",
     "height": 364
    },
    "colab_type": "code",
    "id": "98LmMrDxS2jT",
    "outputId": "cdc97319-0c10-4cdd-eb57-5fc910ab6c7e"
   },
   "outputs": [
    {
     "name": "stdout",
     "output_type": "stream",
     "text": [
      "Predicted label:  [6]\n"
     ]
    },
    {
     "data": {
      "image/png": "[encoded data removed]",
      "text/plain": [
       "<Figure size 576x396 with 1 Axes>"
      ]
     },
     "metadata": {
      "tags": []
     },
     "output_type": "display_data"
    }
   ],
   "source": [
    "# display and predict third test image \n",
    "imshow(testset[19][0])\n",
    "testimg = np.asarray([X_test[19]])\n",
    "predicted = nn_test.predict(testimg)\n",
    "print(\"Predicted label: \", predicted)"
   ]
  },
  {
   "cell_type": "code",
   "execution_count": 0,
   "metadata": {
    "colab": {
     "base_uri": "https://localhost:8080/",
     "height": 364
    },
    "colab_type": "code",
    "id": "27gy5dHiS7k1",
    "outputId": "befa4d45-ba93-417d-a617-cff848ef371e"
   },
   "outputs": [
    {
     "name": "stdout",
     "output_type": "stream",
     "text": [
      "Predicted label:  [6]\n"
     ]
    },
    {
     "data": {
      "image/png": "[encoded data removed]",
      "text/plain": [
       "<Figure size 576x396 with 1 Axes>"
      ]
     },
     "metadata": {
      "tags": []
     },
     "output_type": "display_data"
    }
   ],
   "source": [
    "# display and predict fourth test image \n",
    "imshow(testset[30][0])\n",
    "testimg = np.asarray([X_test[30]])\n",
    "predicted = nn_test.predict(testimg)\n",
    "print(\"Predicted label: \", predicted)"
   ]
  },
  {
   "cell_type": "code",
   "execution_count": 0,
   "metadata": {
    "colab": {
     "base_uri": "https://localhost:8080/",
     "height": 364
    },
    "colab_type": "code",
    "id": "Te_uKghAS-Qg",
    "outputId": "ec794379-b037-40b8-d898-93aff6f3283c"
   },
   "outputs": [
    {
     "name": "stdout",
     "output_type": "stream",
     "text": [
      "Predicted label:  [9]\n"
     ]
    },
    {
     "data": {
      "image/png": "[encoded data removed]",
      "text/plain": [
       "<Figure size 576x396 with 1 Axes>"
      ]
     },
     "metadata": {
      "tags": []
     },
     "output_type": "display_data"
    }
   ],
   "source": [
    "# display and predict fifth test image \n",
    "imshow(testset[37][0])\n",
    "testimg = np.asarray([X_test[37]])\n",
    "predicted = nn_test.predict(testimg)\n",
    "print(\"Predicted label: \", predicted)"
   ]
  },
  {
   "cell_type": "markdown",
   "metadata": {
    "colab_type": "text",
    "id": "GniYJgLb1_Ho"
   },
   "source": [
    "# 2. NN Using PyTorch"
   ]
  },
  {
   "cell_type": "code",
   "execution_count": 0,
   "metadata": {
    "colab": {},
    "colab_type": "code",
    "id": "kQNUQYPug62u"
   },
   "outputs": [],
   "source": [
    "import numpy as np\n",
    "import torch\n",
    "import torch.nn as nn\n",
    "import torch.nn.functional as F\n",
    "import torch.optim as optim\n",
    "import torchvision\n",
    "import torchvision.transforms as transforms"
   ]
  },
  {
   "cell_type": "markdown",
   "metadata": {
    "colab_type": "text",
    "id": "eRIG19CjHZ0V"
   },
   "source": [
    "## 2.1 Loading the CIFAR10 Dataset"
   ]
  },
  {
   "cell_type": "code",
   "execution_count": 0,
   "metadata": {
    "colab": {
     "base_uri": "https://localhost:8080/",
     "height": 52
    },
    "colab_type": "code",
    "id": "xnNomfzZnnzn",
    "outputId": "d12098af-7ff1-423d-c0cf-e16c56184699"
   },
   "outputs": [
    {
     "name": "stdout",
     "output_type": "stream",
     "text": [
      "Files already downloaded and verified\n",
      "Files already downloaded and verified\n"
     ]
    }
   ],
   "source": [
    "from torch.utils.data import Dataset, DataLoader, random_split\n",
    "transform = transforms.Compose([torchvision.transforms.ToTensor(), torchvision.transforms.Normalize((0.5, 0.5, 0.5), (0.5, 0.5, 0.5))])\n",
    "trainset = torchvision.datasets.CIFAR10(root='./data', train=True, download=True, transform=transform)\n",
    "testset = torchvision.datasets.CIFAR10(root='./data', train=False, download=True, transform=transform)\n",
    "\n",
    "train_val_ratio = 0.9\n",
    "n_train = int(len(trainset) * train_val_ratio)\n",
    "n_val = len(trainset) - n_train\n",
    "trainset, valset = random_split(trainset, [n_train, n_val])\n",
    "trainloader = DataLoader(trainset, batch_size=50, num_workers=1, shuffle=True)\n",
    "valloader = DataLoader(valset, batch_size=1000, num_workers=1, shuffle=False)\n",
    "testloader = DataLoader(testset, batch_size=1000, num_workers=1, shuffle=False)"
   ]
  },
  {
   "cell_type": "markdown",
   "metadata": {
    "colab_type": "text",
    "id": "dhZkHNhoHgAT"
   },
   "source": [
    "## 2.2.1 Implementing the Network\n",
    "First try a simple Convolutional Neural Network with 2 convolutional layers and 2 fully-connected layers"
   ]
  },
  {
   "cell_type": "code",
   "execution_count": 0,
   "metadata": {
    "colab": {},
    "colab_type": "code",
    "id": "hI8avN0YtVu0"
   },
   "outputs": [],
   "source": [
    "class Model(nn.Module):\n",
    "    def __init__(self):\n",
    "        super(Model, self).__init__()\n",
    "        # input is 32 by 32 with 3 channels\n",
    "        # padding=2, same int used for height and width dimension\n",
    "        self.conv1 = nn.Conv2d(3, 32, 5, padding=2)     \n",
    "        self.conv2 = nn.Conv2d(32, 64, 5, padding=2)\n",
    "        self.bn1 = nn.BatchNorm2d(32)\n",
    "        self.bn2 = nn.BatchNorm2d(64)\n",
    "        self.fc1 = nn.Linear(64*8*8, 1024)\n",
    "        self.fc2 = nn.Linear(1024, 10)\n",
    "        \n",
    "    def forward(self, x):\n",
    "        x = F.max_pool2d(F.relu(self.bn1(self.conv1(x))), 2)\n",
    "        x = F.max_pool2d(F.relu(self.bn2(self.conv2(x))), 2)\n",
    "        x = x.view(-1, 64*8*8) # reshape before sending to fc layer\n",
    "        x = F.relu(self.fc1(x))\n",
    "        x = F.dropout(x, training=self.training) # default p=0.5\n",
    "        x = self.fc2(x)\n",
    "        return F.log_softmax(x)"
   ]
  },
  {
   "cell_type": "markdown",
   "metadata": {
    "colab_type": "text",
    "id": "mzZ7yUD9bp0m"
   },
   "source": [
    "### Define optimizer (loss is defined in the next cell)"
   ]
  },
  {
   "cell_type": "code",
   "execution_count": 0,
   "metadata": {
    "colab": {
     "base_uri": "https://localhost:8080/",
     "height": 156
    },
    "colab_type": "code",
    "id": "VtqLxlPcxesA",
    "outputId": "1847e22c-4d88-4f9b-e046-d7865aceec19"
   },
   "outputs": [
    {
     "name": "stdout",
     "output_type": "stream",
     "text": [
      "Model(\n",
      "  (conv1): Conv2d(3, 32, kernel_size=(5, 5), stride=(1, 1), padding=(2, 2))\n",
      "  (conv2): Conv2d(32, 64, kernel_size=(5, 5), stride=(1, 1), padding=(2, 2))\n",
      "  (bn1): BatchNorm2d(32, eps=1e-05, momentum=0.1, affine=True, track_running_stats=True)\n",
      "  (bn2): BatchNorm2d(64, eps=1e-05, momentum=0.1, affine=True, track_running_stats=True)\n",
      "  (fc1): Linear(in_features=4096, out_features=1024, bias=True)\n",
      "  (fc2): Linear(in_features=1024, out_features=10, bias=True)\n",
      ")\n"
     ]
    }
   ],
   "source": [
    "model = Model()\n",
    "print(model)\n",
    "\n",
    "optimizer = optim.SGD(model.parameters(), lr=0.01, momentum=0.9)"
   ]
  },
  {
   "cell_type": "markdown",
   "metadata": {
    "colab_type": "text",
    "id": "O3gZZkmUbw9G"
   },
   "source": [
    "### Train"
   ]
  },
  {
   "cell_type": "code",
   "execution_count": 0,
   "metadata": {
    "colab": {
     "base_uri": "https://localhost:8080/",
     "height": 1317
    },
    "colab_type": "code",
    "id": "XxhlR5fZ1oAx",
    "outputId": "f80cc4df-f9e1-4946-9d13-ced25d28dca6"
   },
   "outputs": [
    {
     "name": "stderr",
     "output_type": "stream",
     "text": [
      "/usr/local/lib/python3.6/dist-packages/ipykernel_launcher.py:20: UserWarning: Implicit dimension choice for log_softmax has been deprecated. Change the call to include dim=X as an argument.\n"
     ]
    },
    {
     "name": "stdout",
     "output_type": "stream",
     "text": [
      "Train Step: 0\tTraining loss: 2.328\tTraining accuracy: 8.000\n",
      "===============================================\n",
      "Epoch 1\n",
      "Validation accuracy: 61.00%\n",
      "===============================================\n",
      "Train Step: 1000\tTraining loss: 1.115\tTraining accuracy: 58.000\n",
      "===============================================\n",
      "Epoch 2\n",
      "Validation accuracy: 65.00%\n",
      "===============================================\n",
      "Train Step: 2000\tTraining loss: 0.872\tTraining accuracy: 70.000\n",
      "===============================================\n",
      "Epoch 3\n",
      "Validation accuracy: 70.00%\n",
      "===============================================\n",
      "Train Step: 3000\tTraining loss: 0.739\tTraining accuracy: 76.000\n",
      "===============================================\n",
      "Epoch 4\n",
      "Validation accuracy: 72.00%\n",
      "===============================================\n",
      "Train Step: 4000\tTraining loss: 0.598\tTraining accuracy: 76.000\n",
      "===============================================\n",
      "Epoch 5\n",
      "Validation accuracy: 72.00%\n",
      "===============================================\n",
      "Train Step: 5000\tTraining loss: 0.551\tTraining accuracy: 82.000\n",
      "===============================================\n",
      "Epoch 6\n",
      "Validation accuracy: 75.00%\n",
      "===============================================\n",
      "Train Step: 6000\tTraining loss: 0.532\tTraining accuracy: 78.000\n",
      "===============================================\n",
      "Epoch 7\n",
      "Validation accuracy: 74.00%\n",
      "===============================================\n",
      "Train Step: 7000\tTraining loss: 0.255\tTraining accuracy: 90.000\n",
      "===============================================\n",
      "Epoch 8\n",
      "Validation accuracy: 76.00%\n",
      "===============================================\n",
      "Train Step: 8000\tTraining loss: 0.307\tTraining accuracy: 92.000\n",
      "===============================================\n",
      "Epoch 9\n",
      "Validation accuracy: 76.00%\n",
      "===============================================\n",
      "===============================================\n",
      "Epoch 10\n",
      "Validation accuracy: 77.00%\n",
      "===============================================\n",
      "Train Step: 9000\tTraining loss: 0.274\tTraining accuracy: 92.000\n",
      "===============================================\n",
      "Epoch 11\n",
      "Validation accuracy: 76.00%\n",
      "===============================================\n",
      "Train Step: 10000\tTraining loss: 0.397\tTraining accuracy: 92.000\n",
      "===============================================\n",
      "Epoch 12\n",
      "Validation accuracy: 77.00%\n",
      "===============================================\n",
      "Train Step: 11000\tTraining loss: 0.196\tTraining accuracy: 92.000\n",
      "===============================================\n",
      "Epoch 13\n",
      "Validation accuracy: 78.00%\n",
      "===============================================\n",
      "Train Step: 12000\tTraining loss: 0.074\tTraining accuracy: 100.000\n",
      "===============================================\n",
      "Epoch 14\n",
      "Validation accuracy: 77.00%\n",
      "===============================================\n",
      "Train Step: 13000\tTraining loss: 0.130\tTraining accuracy: 92.000\n",
      "===============================================\n",
      "Epoch 15\n",
      "Validation accuracy: 77.00%\n",
      "===============================================\n"
     ]
    }
   ],
   "source": [
    "batch_size = 50\n",
    "\n",
    "# send model to GPU\n",
    "model.cuda()\n",
    "\n",
    "\n",
    "train_loss, train_accu = [], []\n",
    "val_accu = []\n",
    "i = 0\n",
    "for epoch in range(15):\n",
    "    model.train() # to set train mode for drop out\n",
    "    for images, labels in trainloader:\n",
    "        # send tensors to GPU\n",
    "        images, labels = images.cuda(), labels.cuda()\n",
    "        \n",
    "        optimizer.zero_grad()               # zero the parameter gradients\n",
    "        outputs = model(images)             # calls the forward function of model, i.e. model.forward(images)\n",
    "        loss = F.nll_loss(outputs, labels)  # calculate loss\n",
    "        loss.backward()                     # calculate gradients\n",
    "        train_loss.append(loss.item())\n",
    "        optimizer.step()                    # update learnable parameters\n",
    "        predictions = outputs.data.max(1)[1]# column at idx 1 has actual prob.  \n",
    "        \n",
    "        # send tensors back to CPU because numpy ops don't support GPU.\n",
    "        accuracy = np.sum(predictions.cpu().numpy()==labels.cpu().numpy())/batch_size*100\n",
    "        train_accu.append(accuracy)\n",
    "        if i % 1000 == 0:\n",
    "            print('Train Step: {}\\tTraining loss: {:.3f}\\tTraining accuracy: {:.3f}'.format(i, loss.item(), accuracy))\n",
    "        i += 1\n",
    "    \n",
    "    model.eval()\n",
    "    correct = 0\n",
    "    for images, labels in valloader:\n",
    "        with torch.no_grad(): # so that computation graph history is not stored\n",
    "            images, labels = images.cuda(), labels.cuda() # send tensors to GPU\n",
    "            outputs = model(images)\n",
    "            predictions = outputs.data.max(1)[1]\n",
    "            correct += predictions.eq(labels.data).sum()\n",
    "            \n",
    "    print(\"===============================================\")        \n",
    "    print('Epoch %d' % (epoch + 1))    \n",
    "    print('Validation accuracy: {:.2f}%'.format(100.0 * correct / len(valloader.dataset)))\n",
    "    print(\"===============================================\")\n",
    "    val_accu.append(100.0 * correct / len(valloader.dataset))"
   ]
  },
  {
   "cell_type": "markdown",
   "metadata": {
    "colab_type": "text",
    "id": "lN4ZoImlb3Qn"
   },
   "source": [
    "### Test"
   ]
  },
  {
   "cell_type": "code",
   "execution_count": 0,
   "metadata": {
    "colab": {
     "base_uri": "https://localhost:8080/",
     "height": 52
    },
    "colab_type": "code",
    "id": "_UIKCKcE7i11",
    "outputId": "1e4dfed3-6dc8-4588-a0d9-bc52046c2c32"
   },
   "outputs": [
    {
     "name": "stderr",
     "output_type": "stream",
     "text": [
      "/usr/local/lib/python3.6/dist-packages/ipykernel_launcher.py:20: UserWarning: Implicit dimension choice for log_softmax has been deprecated. Change the call to include dim=X as an argument.\n"
     ]
    },
    {
     "name": "stdout",
     "output_type": "stream",
     "text": [
      "Test set accuracy: 76.00%\n"
     ]
    }
   ],
   "source": [
    "model.eval()\n",
    "correct = 0\n",
    "for images, labels in testloader:\n",
    "    with torch.no_grad(): # so that computation graph history is not stored\n",
    "        images, labels = images.cuda(), labels.cuda() # send tensors to GPU\n",
    "        outputs = model(images)\n",
    "        predictions = outputs.data.max(1)[1]\n",
    "        correct += predictions.eq(labels.data).sum()\n",
    "        \n",
    "print('Test set accuracy: {:.2f}%'.format(100.0 * correct / len(testloader.dataset)))"
   ]
  },
  {
   "cell_type": "markdown",
   "metadata": {
    "colab_type": "text",
    "id": "M7k9xkkpQkW1"
   },
   "source": [
    "## 2.2.2 Fine-tuning the Network\n",
    "Fine-tuning the structure of the network to achieve a higher accuracy. Here, we use 3 convolutional layers instead of 2, use larger fully-connected layers. Additionally, we use ADAM instead of mini-batch Gradient Descent as the optimizer."
   ]
  },
  {
   "cell_type": "code",
   "execution_count": 0,
   "metadata": {
    "colab": {},
    "colab_type": "code",
    "id": "qCX3FVcMQjXQ"
   },
   "outputs": [],
   "source": [
    "class Model1(nn.Module):\n",
    "  \n",
    "    def __init__(self):\n",
    "        super(Model1, self).__init__()\n",
    "        self.conv1 = nn.Conv2d(3, 32, 5, padding=2)\n",
    "        self.conv2 = nn.Conv2d(32, 64, 3, padding=1)\n",
    "        self.conv3 = nn.Conv2d(64, 128, 3, padding=1)\n",
    "        self.bn1 = nn.BatchNorm2d(32)\n",
    "        self.bn2 = nn.BatchNorm2d(64)\n",
    "        self.bn3 = nn.BatchNorm2d(128)\n",
    "        self.pool = nn.MaxPool2d(2)\n",
    "        self.fc1 = nn.Linear(128 * 4 * 4, 1024)\n",
    "        self.fc2 = nn.Linear(1024, 10)\n",
    "    \n",
    "    def forward(self, X):\n",
    "        A1 = self.pool(F.relu(self.bn1(self.conv1(X))))\n",
    "        A2 = self.pool(F.relu(self.bn2(self.conv2(A1))))\n",
    "        A3 = self.pool(F.relu(self.bn3(self.conv3(A2))))\n",
    "        flattened_A3 = A3.view(-1, 128 * 4 * 4) # flattening\n",
    "        A4 = F.relu(self.fc1(flattened_A3))\n",
    "        dropouted_A4 = F.dropout(A4, training=self.training)\n",
    "        A5 = self.fc2(A4)\n",
    "        return F.log_softmax(A5)"
   ]
  },
  {
   "cell_type": "markdown",
   "metadata": {
    "colab_type": "text",
    "id": "BXdWkKlBwuqw"
   },
   "source": [
    "### Define optimizer (loss is defined in the next cell)"
   ]
  },
  {
   "cell_type": "code",
   "execution_count": 0,
   "metadata": {
    "colab": {
     "base_uri": "https://localhost:8080/",
     "height": 225
    },
    "colab_type": "code",
    "id": "Qxf3YAACwuqy",
    "outputId": "fd5314e0-edef-46f4-a63f-6d634dc5d1ee"
   },
   "outputs": [
    {
     "name": "stdout",
     "output_type": "stream",
     "text": [
      "Model1(\n",
      "  (conv1): Conv2d(3, 32, kernel_size=(5, 5), stride=(1, 1), padding=(2, 2))\n",
      "  (conv2): Conv2d(32, 64, kernel_size=(3, 3), stride=(1, 1), padding=(1, 1))\n",
      "  (conv3): Conv2d(64, 128, kernel_size=(3, 3), stride=(1, 1), padding=(1, 1))\n",
      "  (bn1): BatchNorm2d(32, eps=1e-05, momentum=0.1, affine=True, track_running_stats=True)\n",
      "  (bn2): BatchNorm2d(64, eps=1e-05, momentum=0.1, affine=True, track_running_stats=True)\n",
      "  (bn3): BatchNorm2d(128, eps=1e-05, momentum=0.1, affine=True, track_running_stats=True)\n",
      "  (pool): MaxPool2d(kernel_size=2, stride=2, padding=0, dilation=1, ceil_mode=False)\n",
      "  (fc1): Linear(in_features=2048, out_features=1024, bias=True)\n",
      "  (fc2): Linear(in_features=1024, out_features=1024, bias=True)\n",
      "  (fc3): Linear(in_features=1024, out_features=10, bias=True)\n",
      ")\n"
     ]
    }
   ],
   "source": [
    "model = Model1()\n",
    "print(model)\n",
    "\n",
    "optimizer = optim.Adam(model.parameters(), lr=0.001)"
   ]
  },
  {
   "cell_type": "markdown",
   "metadata": {
    "colab_type": "text",
    "id": "OJd79ULuwuq4"
   },
   "source": [
    "### Train"
   ]
  },
  {
   "cell_type": "code",
   "execution_count": 0,
   "metadata": {
    "colab": {
     "base_uri": "https://localhost:8080/",
     "height": 1317
    },
    "colab_type": "code",
    "id": "jqoE5z2hH5BD",
    "outputId": "34dc1cc6-be49-4061-b802-813b3debd7b2"
   },
   "outputs": [
    {
     "name": "stderr",
     "output_type": "stream",
     "text": [
      "/usr/local/lib/python3.6/dist-packages/ipykernel_launcher.py:23: UserWarning: Implicit dimension choice for log_softmax has been deprecated. Change the call to include dim=X as an argument.\n"
     ]
    },
    {
     "name": "stdout",
     "output_type": "stream",
     "text": [
      "Train Step: 0\tTraining loss: 2.332\tTraining accuracy: 8.000\n",
      "===============================================\n",
      "Epoch 1\n",
      "Validation accuracy: 64.00%\n",
      "===============================================\n",
      "Train Step: 1000\tTraining loss: 1.124\tTraining accuracy: 62.000\n",
      "===============================================\n",
      "Epoch 2\n",
      "Validation accuracy: 71.00%\n",
      "===============================================\n",
      "Train Step: 2000\tTraining loss: 0.966\tTraining accuracy: 66.000\n",
      "===============================================\n",
      "Epoch 3\n",
      "Validation accuracy: 74.00%\n",
      "===============================================\n",
      "Train Step: 3000\tTraining loss: 0.710\tTraining accuracy: 66.000\n",
      "===============================================\n",
      "Epoch 4\n",
      "Validation accuracy: 75.00%\n",
      "===============================================\n",
      "Train Step: 4000\tTraining loss: 0.393\tTraining accuracy: 86.000\n",
      "===============================================\n",
      "Epoch 5\n",
      "Validation accuracy: 77.00%\n",
      "===============================================\n",
      "Train Step: 5000\tTraining loss: 0.584\tTraining accuracy: 82.000\n",
      "===============================================\n",
      "Epoch 6\n",
      "Validation accuracy: 77.00%\n",
      "===============================================\n",
      "Train Step: 6000\tTraining loss: 0.509\tTraining accuracy: 82.000\n",
      "===============================================\n",
      "Epoch 7\n",
      "Validation accuracy: 78.00%\n",
      "===============================================\n",
      "Train Step: 7000\tTraining loss: 0.373\tTraining accuracy: 90.000\n",
      "===============================================\n",
      "Epoch 8\n",
      "Validation accuracy: 75.00%\n",
      "===============================================\n",
      "Train Step: 8000\tTraining loss: 0.175\tTraining accuracy: 94.000\n",
      "===============================================\n",
      "Epoch 9\n",
      "Validation accuracy: 77.00%\n",
      "===============================================\n",
      "===============================================\n",
      "Epoch 10\n",
      "Validation accuracy: 77.00%\n",
      "===============================================\n",
      "Train Step: 9000\tTraining loss: 0.022\tTraining accuracy: 100.000\n",
      "===============================================\n",
      "Epoch 11\n",
      "Validation accuracy: 77.00%\n",
      "===============================================\n",
      "Train Step: 10000\tTraining loss: 0.074\tTraining accuracy: 96.000\n",
      "===============================================\n",
      "Epoch 12\n",
      "Validation accuracy: 77.00%\n",
      "===============================================\n",
      "Train Step: 11000\tTraining loss: 0.085\tTraining accuracy: 96.000\n",
      "===============================================\n",
      "Epoch 13\n",
      "Validation accuracy: 78.00%\n",
      "===============================================\n",
      "Train Step: 12000\tTraining loss: 0.013\tTraining accuracy: 100.000\n",
      "===============================================\n",
      "Epoch 14\n",
      "Validation accuracy: 77.00%\n",
      "===============================================\n",
      "Train Step: 13000\tTraining loss: 0.056\tTraining accuracy: 98.000\n",
      "===============================================\n",
      "Epoch 15\n",
      "Validation accuracy: 77.00%\n",
      "===============================================\n"
     ]
    }
   ],
   "source": [
    "batch_size = 50\n",
    "\n",
    "# send model to GPU\n",
    "model.cuda()\n",
    "\n",
    "\n",
    "train_loss, train_accu = [], []\n",
    "val_accu = []\n",
    "i = 0\n",
    "for epoch in range(15):\n",
    "    model.train() # to set train mode for drop out\n",
    "    for images, labels in trainloader:\n",
    "        # send tensors to GPU\n",
    "        images, labels = images.cuda(), labels.cuda()\n",
    "        \n",
    "        optimizer.zero_grad()               # zero the parameter gradients\n",
    "        outputs = model(images)             # calls the forward function of model, i.e. model.forward(images)\n",
    "        loss = F.nll_loss(outputs, labels)  # calculate loss\n",
    "        loss.backward()                     # calculate gradients\n",
    "        train_loss.append(loss.item())\n",
    "        optimizer.step()                    # update learnable parameters\n",
    "        predictions = outputs.data.max(1)[1]# column at idx 1 has actual prob.  \n",
    "        \n",
    "        # send tensors back to CPU because numpy ops don't support GPU.\n",
    "        accuracy = np.sum(predictions.cpu().numpy()==labels.cpu().numpy())/batch_size*100\n",
    "        train_accu.append(accuracy)\n",
    "        if i % 1000 == 0:\n",
    "            print('Train Step: {}\\tTraining loss: {:.3f}\\tTraining accuracy: {:.3f}'.format(i, loss.item(), accuracy))\n",
    "        i += 1\n",
    "        \n",
    "    model.eval()\n",
    "    correct = 0\n",
    "    for images, labels in valloader:\n",
    "        with torch.no_grad(): # so that computation graph history is not stored\n",
    "            images, labels = images.cuda(), labels.cuda() # send tensors to GPU\n",
    "            outputs = model(images)\n",
    "            predictions = outputs.data.max(1)[1]\n",
    "            correct += predictions.eq(labels.data).sum()\n",
    "            \n",
    "    print(\"===============================================\")        \n",
    "    print('Epoch %d' % (epoch + 1))    \n",
    "    print('Validation accuracy: {:.2f}%'.format(100.0 * correct / len(valloader.dataset)))\n",
    "    print(\"===============================================\")\n",
    "    val_accu.append(100.0 * correct / len(valloader.dataset))"
   ]
  },
  {
   "cell_type": "markdown",
   "metadata": {
    "colab_type": "text",
    "id": "tY2sB9Ilwuq8"
   },
   "source": [
    "### Test"
   ]
  },
  {
   "cell_type": "code",
   "execution_count": 0,
   "metadata": {
    "colab": {
     "base_uri": "https://localhost:8080/",
     "height": 52
    },
    "colab_type": "code",
    "id": "mODTqhU-wuq_",
    "outputId": "e2517757-9148-44fd-befa-e6dc9708c0a3"
   },
   "outputs": [
    {
     "name": "stderr",
     "output_type": "stream",
     "text": [
      "/usr/local/lib/python3.6/dist-packages/ipykernel_launcher.py:23: UserWarning: Implicit dimension choice for log_softmax has been deprecated. Change the call to include dim=X as an argument.\n"
     ]
    },
    {
     "name": "stdout",
     "output_type": "stream",
     "text": [
      "Test set accuracy: 72.00%\n"
     ]
    }
   ],
   "source": [
    "model.eval()\n",
    "correct = 0\n",
    "for images, labels in testloader:\n",
    "    with torch.no_grad(): # so that computation graph history is not stored\n",
    "        images, labels = images.cuda(), labels.cuda() # send tensors to GPU\n",
    "        outputs = model(images)\n",
    "        predictions = outputs.data.max(1)[1]\n",
    "        correct += predictions.eq(labels.data).sum()\n",
    "        \n",
    "print('Test set accuracy: {:.2f}%'.format(100.0 * correct / len(testloader.dataset)))"
   ]
  },
  {
   "cell_type": "code",
   "execution_count": 0,
   "metadata": {
    "colab": {},
    "colab_type": "code",
    "id": "59T_yzvfEAtS"
   },
   "outputs": [],
   "source": [
    "class Model2(nn.Module):\n",
    "  \n",
    "    def __init__(self):\n",
    "        super(Model2, self).__init__()\n",
    "        self.conv1 = nn.Conv2d(3, 32, 5, padding=2)\n",
    "        self.conv2 = nn.Conv2d(32, 64, 3, padding=1)\n",
    "        self.conv3 = nn.Conv2d(64, 128, 3, padding=1)\n",
    "        self.bn1 = nn.BatchNorm2d(32)\n",
    "        self.bn2 = nn.BatchNorm2d(64)\n",
    "        self.bn3 = nn.BatchNorm2d(128)\n",
    "        self.pool = nn.MaxPool2d(2)\n",
    "        self.fc1 = nn.Linear(128 * 4 * 4, 1024)\n",
    "        self.fc2 = nn.Linear(1024, 10)\n",
    "    \n",
    "    def forward(self, X):\n",
    "        A1 = self.pool(F.selu(self.bn1(self.conv1(X))))\n",
    "        A2 = self.pool(F.selu(self.bn2(self.conv2(A1))))\n",
    "        A3 = self.pool(F.selu(self.bn3(self.conv3(A2))))\n",
    "        flattened_A3 = A3.view(-1, 128 * 4 * 4) # flattening\n",
    "        A4 = F.relu(self.fc1(flattened_A3))\n",
    "        dropouted_A4 = F.dropout(A4, training=self.training)\n",
    "        A5 = self.fc2(A4)\n",
    "        return F.log_softmax(A5)"
   ]
  },
  {
   "cell_type": "markdown",
   "metadata": {
    "colab_type": "text",
    "id": "WKGNbsClEAtn"
   },
   "source": [
    "### Define optimizer (loss is defined in the next cell)"
   ]
  },
  {
   "cell_type": "code",
   "execution_count": 0,
   "metadata": {
    "colab": {
     "base_uri": "https://localhost:8080/",
     "height": 208
    },
    "colab_type": "code",
    "id": "gIayYNCQEAtp",
    "outputId": "1467575d-804e-4438-f4b0-0558457c3333"
   },
   "outputs": [
    {
     "name": "stdout",
     "output_type": "stream",
     "text": [
      "Model2(\n",
      "  (conv1): Conv2d(3, 32, kernel_size=(5, 5), stride=(1, 1), padding=(2, 2))\n",
      "  (conv2): Conv2d(32, 64, kernel_size=(3, 3), stride=(1, 1), padding=(1, 1))\n",
      "  (conv3): Conv2d(64, 128, kernel_size=(3, 3), stride=(1, 1), padding=(1, 1))\n",
      "  (bn1): BatchNorm2d(32, eps=1e-05, momentum=0.1, affine=True, track_running_stats=True)\n",
      "  (bn2): BatchNorm2d(64, eps=1e-05, momentum=0.1, affine=True, track_running_stats=True)\n",
      "  (bn3): BatchNorm2d(128, eps=1e-05, momentum=0.1, affine=True, track_running_stats=True)\n",
      "  (pool): MaxPool2d(kernel_size=2, stride=2, padding=0, dilation=1, ceil_mode=False)\n",
      "  (fc1): Linear(in_features=2048, out_features=1024, bias=True)\n",
      "  (fc2): Linear(in_features=1024, out_features=10, bias=True)\n",
      ")\n"
     ]
    }
   ],
   "source": [
    "model = Model2()\n",
    "print(model)\n",
    "\n",
    "optimizer = optim.Adam(model.parameters(), lr=0.001)\n",
    "scheduler = optim.lr_scheduler.ReduceLROnPlateau(optimizer, patience=5)"
   ]
  },
  {
   "cell_type": "markdown",
   "metadata": {
    "colab_type": "text",
    "id": "bpr1HyxlEAtw"
   },
   "source": [
    "### Train"
   ]
  },
  {
   "cell_type": "code",
   "execution_count": 0,
   "metadata": {
    "colab": {
     "base_uri": "https://localhost:8080/",
     "height": 1297
    },
    "colab_type": "code",
    "id": "OvHnIEI2EAt0",
    "outputId": "00f85747-db9b-4fa0-9e6a-9f09a29d2455"
   },
   "outputs": [
    {
     "name": "stderr",
     "output_type": "stream",
     "text": [
      "/usr/local/lib/python3.6/dist-packages/ipykernel_launcher.py:23: UserWarning: Implicit dimension choice for log_softmax has been deprecated. Change the call to include dim=X as an argument.\n"
     ]
    },
    {
     "name": "stdout",
     "output_type": "stream",
     "text": [
      "Train Step: 0\tTraining loss: 2.306\tTraining accuracy: 12.000\n",
      "===============================================\n",
      "Epoch 1\n",
      "Validation accuracy: 64.00%\n",
      "===============================================\n",
      "Train Step: 1000\tTraining loss: 0.925\tTraining accuracy: 70.000\n",
      "===============================================\n",
      "Epoch 2\n",
      "Validation accuracy: 69.00%\n",
      "===============================================\n",
      "Train Step: 2000\tTraining loss: 0.473\tTraining accuracy: 78.000\n",
      "===============================================\n",
      "Epoch 3\n",
      "Validation accuracy: 72.00%\n",
      "===============================================\n",
      "Train Step: 3000\tTraining loss: 0.868\tTraining accuracy: 68.000\n",
      "===============================================\n",
      "Epoch 4\n",
      "Validation accuracy: 72.00%\n",
      "===============================================\n",
      "Train Step: 4000\tTraining loss: 0.293\tTraining accuracy: 88.000\n",
      "===============================================\n",
      "Epoch 5\n",
      "Validation accuracy: 74.00%\n",
      "===============================================\n",
      "Train Step: 5000\tTraining loss: 0.277\tTraining accuracy: 90.000\n",
      "===============================================\n",
      "Epoch 6\n",
      "Validation accuracy: 73.00%\n",
      "===============================================\n",
      "Train Step: 6000\tTraining loss: 0.176\tTraining accuracy: 94.000\n",
      "===============================================\n",
      "Epoch 7\n",
      "Validation accuracy: 74.00%\n",
      "===============================================\n",
      "Train Step: 7000\tTraining loss: 0.170\tTraining accuracy: 96.000\n",
      "===============================================\n",
      "Epoch 8\n",
      "Validation accuracy: 74.00%\n",
      "===============================================\n",
      "Train Step: 8000\tTraining loss: 0.122\tTraining accuracy: 96.000\n",
      "===============================================\n",
      "Epoch 9\n",
      "Validation accuracy: 74.00%\n",
      "===============================================\n",
      "===============================================\n",
      "Epoch 10\n",
      "Validation accuracy: 73.00%\n",
      "===============================================\n",
      "Train Step: 9000\tTraining loss: 0.026\tTraining accuracy: 100.000\n",
      "===============================================\n",
      "Epoch 11\n",
      "Validation accuracy: 73.00%\n",
      "===============================================\n",
      "Train Step: 10000\tTraining loss: 0.018\tTraining accuracy: 100.000\n",
      "===============================================\n",
      "Epoch 12\n",
      "Validation accuracy: 74.00%\n",
      "===============================================\n",
      "Train Step: 11000\tTraining loss: 0.185\tTraining accuracy: 98.000\n",
      "===============================================\n",
      "Epoch 13\n",
      "Validation accuracy: 72.00%\n",
      "===============================================\n",
      "Train Step: 12000\tTraining loss: 0.014\tTraining accuracy: 100.000\n",
      "===============================================\n",
      "Epoch 14\n",
      "Validation accuracy: 72.00%\n",
      "===============================================\n",
      "Train Step: 13000\tTraining loss: 0.102\tTraining accuracy: 96.000\n",
      "===============================================\n",
      "Epoch 15\n",
      "Validation accuracy: 73.00%\n",
      "===============================================\n"
     ]
    }
   ],
   "source": [
    "batch_size = 50\n",
    "\n",
    "# send model to GPU\n",
    "model.cuda()\n",
    "\n",
    "\n",
    "train_loss, train_accu = [], []\n",
    "val_accu = []\n",
    "i = 0\n",
    "for epoch in range(15):\n",
    "    model.train() # to set train mode for drop out\n",
    "    for images, labels in trainloader:\n",
    "        # send tensors to GPU\n",
    "        images, labels = images.cuda(), labels.cuda()\n",
    "        \n",
    "        optimizer.zero_grad()               # zero the parameter gradients\n",
    "        outputs = model(images)             # calls the forward function of model, i.e. model.forward(images)\n",
    "        loss = F.nll_loss(outputs, labels)  # calculate loss\n",
    "        loss.backward()                     # calculate gradients\n",
    "        train_loss.append(loss.item())\n",
    "        optimizer.step()                    # update learnable parameters\n",
    "        predictions = outputs.data.max(1)[1]# column at idx 1 has actual prob.  \n",
    "        \n",
    "        # send tensors back to CPU because numpy ops don't support GPU.\n",
    "        accuracy = np.sum(predictions.cpu().numpy()==labels.cpu().numpy())/batch_size*100\n",
    "        train_accu.append(accuracy)\n",
    "        if i % 1000 == 0:\n",
    "            print('Train Step: {}\\tTraining loss: {:.3f}\\tTraining accuracy: {:.3f}'.format(i, loss.item(), accuracy))\n",
    "        i += 1\n",
    "        \n",
    "    scheduler.step(train_loss[-1])\n",
    "    model.eval()\n",
    "    correct = 0\n",
    "    for images, labels in valloader:\n",
    "        with torch.no_grad(): # so that computation graph history is not stored\n",
    "            images, labels = images.cuda(), labels.cuda() # send tensors to GPU\n",
    "            outputs = model(images)\n",
    "            predictions = outputs.data.max(1)[1]\n",
    "            correct += predictions.eq(labels.data).sum()\n",
    "            \n",
    "    print(\"===============================================\")        \n",
    "    print('Epoch %d' % (epoch + 1))    \n",
    "    print('Validation accuracy: {:.2f}%'.format(100.0 * correct / len(valloader.dataset)))\n",
    "    print(\"===============================================\")\n",
    "    val_accu.append(100.0 * correct / len(valloader.dataset))"
   ]
  },
  {
   "cell_type": "markdown",
   "metadata": {
    "colab_type": "text",
    "id": "aiIwm5scEAt5"
   },
   "source": [
    "### Test"
   ]
  },
  {
   "cell_type": "code",
   "execution_count": 0,
   "metadata": {
    "colab": {
     "base_uri": "https://localhost:8080/",
     "height": 52
    },
    "colab_type": "code",
    "id": "D9uuNb8GbNMt",
    "outputId": "e2517757-9148-44fd-befa-e6dc9708c0a3"
   },
   "outputs": [
    {
     "name": "stderr",
     "output_type": "stream",
     "text": [
      "/usr/local/lib/python3.6/dist-packages/ipykernel_launcher.py:23: UserWarning: Implicit dimension choice for log_softmax has been deprecated. Change the call to include dim=X as an argument.\n"
     ]
    },
    {
     "name": "stdout",
     "output_type": "stream",
     "text": [
      "Test set accuracy: 72.00%\n"
     ]
    }
   ],
   "source": [
    "model.eval()\n",
    "correct = 0\n",
    "for images, labels in testloader:\n",
    "    with torch.no_grad(): # so that computation graph history is not stored\n",
    "        images, labels = images.cuda(), labels.cuda() # send tensors to GPU\n",
    "        outputs = model(images)\n",
    "        predictions = outputs.data.max(1)[1]\n",
    "        correct += predictions.eq(labels.data).sum()\n",
    "        \n",
    "print('Test set accuracy: {:.2f}%'.format(100.0 * correct / len(testloader.dataset)))"
   ]
  },
  {
   "cell_type": "markdown",
   "metadata": {
    "colab_type": "text",
    "id": "9q9kRiOxZ4-v"
   },
   "source": [
    "## **Discussion of Methods:**\n",
    "\n",
    "1\n",
    "Firstly, we implement a Convolutional Neural Network with two convolutional layers followed by two fully connected layers. The first convolutional layer is composed of 32 kernels, each kernel is of size 5*5, with padding of 2, and the second convolutional layer is composed of 64 kernels with the same size and padding. We did batch normalization and used ReLU as the activation function. The first fully connected layer has 1024 units and the second fully connected layer has 10 units. We used mini-batch gradient descent as the optimizer.\n",
    "\n",
    "After 15 epochs of training, we reached a validation accuracy of around 77%, and a testing accuracy of 76%.\n",
    "We observed that after epoch 5, the validation accuracy has been lower than the training accuracy significantly, so there    might be the situation of overfitting.\n",
    "\n",
    "2\n",
    "In the first attempt of tuning,  we changed into using three convolutional layers and two fully connected layers, and we changed the optimizer into Adam. The first convolutional layer is composed of 32 kernels, each kernel is of size 5*5, with padding of 2; the second convolutional layer is composed of 64 kernels, each kernel is of size 3*3, with padding of 1; the third convolutional layer is composed of 128 kernels. We did batch normalization and used ReLU as the activation function. The first fully connected layer has 1024 units and the second fully connected layer has 10 units. \n",
    "\n",
    "We also decrease the learning rate by a factor of 10 (i.e. 0.01 to 0.001) in attempt to yield a better accuracy. After epochs of training, we reached a validation accuracy of around 77%, and a testing accuracy of 72%. We observed that the overfitting problem seems to be more severe than the original model, maybe due to the number of parameters become relatively larger, but did not use more data.\n",
    "\n",
    "3.\n",
    "In the second attempt of tuning,  we reduced learning rate if the training loss does not reduce for 5 epoches in order to yield better result. Additionally, we also changed activation to SeLU for more non-linearity. However, the validation accuracy did not improve (reduced to 72%)."
   ]
  },
  {
   "cell_type": "markdown",
   "metadata": {
    "colab_type": "text",
    "id": "TotMo5rs5gpn"
   },
   "source": [
    "## 2.3 Predict Selected Images"
   ]
  },
  {
   "cell_type": "code",
   "execution_count": 0,
   "metadata": {
    "colab": {},
    "colab_type": "code",
    "id": "8LO7rcTA5gpq"
   },
   "outputs": [],
   "source": [
    "import matplotlib.pyplot as plt\n",
    "def imshow(img):\n",
    "    img = img / 2 + 0.5# unnormalize\n",
    "    npimg = img.numpy()\n",
    "    plt.imshow(np.transpose(npimg, (1, 2, 0)))"
   ]
  },
  {
   "cell_type": "code",
   "execution_count": 0,
   "metadata": {
    "colab": {},
    "colab_type": "code",
    "id": "hkYdYmegI9Cl"
   },
   "outputs": [],
   "source": [
    "testloader2 = DataLoader(testset, batch_size=1, shuffle=True)\n",
    "testiter = iter(testloader2)"
   ]
  },
  {
   "cell_type": "code",
   "execution_count": 0,
   "metadata": {
    "colab": {
     "base_uri": "https://localhost:8080/",
     "height": 319
    },
    "colab_type": "code",
    "id": "K-fDk3ip-Ad8",
    "outputId": "ad18e6c8-c3e4-4416-daca-1d9b2fc9b972"
   },
   "outputs": [
    {
     "name": "stdout",
     "output_type": "stream",
     "text": [
      "tensor([2], device='cuda:0')\n"
     ]
    },
    {
     "name": "stderr",
     "output_type": "stream",
     "text": [
      "/usr/local/lib/python3.6/dist-packages/ipykernel_launcher.py:23: UserWarning: Implicit dimension choice for log_softmax has been deprecated. Change the call to include dim=X as an argument.\n"
     ]
    },
    {
     "data": {
      "image/png": "[encoded data removed]",
      "text/plain": [
       "<Figure size 432x288 with 1 Axes>"
      ]
     },
     "metadata": {
      "tags": []
     },
     "output_type": "display_data"
    }
   ],
   "source": [
    "images, labels = next(testiter)\n",
    "with torch.no_grad(): # so that computation graph history is not stored\n",
    "    images, labels = images.cuda(), labels.cuda() # send tensors to GPU\n",
    "    outputs = model(images)\n",
    "    predictions = outputs.data.max(1)[1]\n",
    "    print(predictions)\n",
    "    imshow(torchvision.utils.make_grid(images.cpu()))"
   ]
  },
  {
   "cell_type": "code",
   "execution_count": 0,
   "metadata": {
    "colab": {
     "base_uri": "https://localhost:8080/",
     "height": 319
    },
    "colab_type": "code",
    "id": "Ogl3J1eqJj7i",
    "outputId": "b7510fae-7925-4203-cb35-c7744c8d9374"
   },
   "outputs": [
    {
     "name": "stderr",
     "output_type": "stream",
     "text": [
      "/usr/local/lib/python3.6/dist-packages/ipykernel_launcher.py:23: UserWarning: Implicit dimension choice for log_softmax has been deprecated. Change the call to include dim=X as an argument.\n"
     ]
    },
    {
     "name": "stdout",
     "output_type": "stream",
     "text": [
      "tensor([8], device='cuda:0')\n"
     ]
    },
    {
     "data": {
      "image/png": "[encoded data removed]",
      "text/plain": [
       "<Figure size 432x288 with 1 Axes>"
      ]
     },
     "metadata": {
      "tags": []
     },
     "output_type": "display_data"
    }
   ],
   "source": [
    "images, labels = next(testiter)\n",
    "with torch.no_grad(): # so that computation graph history is not stored\n",
    "    images, labels = images.cuda(), labels.cuda() # send tensors to GPU\n",
    "    outputs = model(images)\n",
    "    predictions = outputs.data.max(1)[1]\n",
    "    print(predictions)\n",
    "    imshow(torchvision.utils.make_grid(images.cpu()))"
   ]
  },
  {
   "cell_type": "code",
   "execution_count": 0,
   "metadata": {
    "colab": {
     "base_uri": "https://localhost:8080/",
     "height": 319
    },
    "colab_type": "code",
    "id": "llAplJ5qJpny",
    "outputId": "75ed32d9-4b3d-4983-e2fb-89b8aa7485f0"
   },
   "outputs": [
    {
     "name": "stderr",
     "output_type": "stream",
     "text": [
      "/usr/local/lib/python3.6/dist-packages/ipykernel_launcher.py:23: UserWarning: Implicit dimension choice for log_softmax has been deprecated. Change the call to include dim=X as an argument.\n"
     ]
    },
    {
     "name": "stdout",
     "output_type": "stream",
     "text": [
      "tensor([1], device='cuda:0')\n"
     ]
    },
    {
     "data": {
      "image/png": "[encoded data removed]",
      "text/plain": [
       "<Figure size 432x288 with 1 Axes>"
      ]
     },
     "metadata": {
      "tags": []
     },
     "output_type": "display_data"
    }
   ],
   "source": [
    "images, labels = next(testiter)\n",
    "with torch.no_grad(): # so that computation graph history is not stored\n",
    "    images, labels = images.cuda(), labels.cuda() # send tensors to GPU\n",
    "    outputs = model(images)\n",
    "    predictions = outputs.data.max(1)[1]\n",
    "    print(predictions)\n",
    "    imshow(torchvision.utils.make_grid(images.cpu()))"
   ]
  },
  {
   "cell_type": "code",
   "execution_count": 0,
   "metadata": {
    "colab": {
     "base_uri": "https://localhost:8080/",
     "height": 319
    },
    "colab_type": "code",
    "id": "QtOpCkVMPCgS",
    "outputId": "06efc18d-20cb-48d8-facc-4de6b2e954d4"
   },
   "outputs": [
    {
     "name": "stdout",
     "output_type": "stream",
     "text": [
      "tensor([0], device='cuda:0')\n"
     ]
    },
    {
     "name": "stderr",
     "output_type": "stream",
     "text": [
      "/usr/local/lib/python3.6/dist-packages/ipykernel_launcher.py:23: UserWarning: Implicit dimension choice for log_softmax has been deprecated. Change the call to include dim=X as an argument.\n"
     ]
    },
    {
     "data": {
      "image/png": "[encoded data removed]",
      "text/plain": [
       "<Figure size 432x288 with 1 Axes>"
      ]
     },
     "metadata": {
      "tags": []
     },
     "output_type": "display_data"
    }
   ],
   "source": [
    "images, labels = next(testiter)\n",
    "with torch.no_grad(): # so that computation graph history is not stored\n",
    "    images, labels = images.cuda(), labels.cuda() # send tensors to GPU\n",
    "    outputs = model(images)\n",
    "    predictions = outputs.data.max(1)[1]\n",
    "    print(predictions)\n",
    "    imshow(torchvision.utils.make_grid(images.cpu()))"
   ]
  },
  {
   "cell_type": "code",
   "execution_count": 0,
   "metadata": {
    "colab": {
     "base_uri": "https://localhost:8080/",
     "height": 319
    },
    "colab_type": "code",
    "id": "uaZfdnvYPIz8",
    "outputId": "a112a8ec-3839-4f43-9660-0ae9a270db9c"
   },
   "outputs": [
    {
     "name": "stdout",
     "output_type": "stream",
     "text": [
      "tensor([3], device='cuda:0')\n"
     ]
    },
    {
     "name": "stderr",
     "output_type": "stream",
     "text": [
      "/usr/local/lib/python3.6/dist-packages/ipykernel_launcher.py:23: UserWarning: Implicit dimension choice for log_softmax has been deprecated. Change the call to include dim=X as an argument.\n"
     ]
    },
    {
     "data": {
      "image/png": "[encoded data removed]",
      "text/plain": [
       "<Figure size 432x288 with 1 Axes>"
      ]
     },
     "metadata": {
      "tags": []
     },
     "output_type": "display_data"
    }
   ],
   "source": [
    "images, labels = next(testiter)\n",
    "with torch.no_grad(): # so that computation graph history is not stored\n",
    "    images, labels = images.cuda(), labels.cuda() # send tensors to GPU\n",
    "    outputs = model(images)\n",
    "    predictions = outputs.data.max(1)[1]\n",
    "    print(predictions)\n",
    "    imshow(torchvision.utils.make_grid(images.cpu()))"
   ]
  }
 ],
 "metadata": {
  "accelerator": "GPU",
  "colab": {
   "collapsed_sections": [],
   "name": "HW1_final_ver.ipynb",
   "provenance": [],
   "version": "0.3.2"
  },
  "kernelspec": {
   "display_name": "Python 3",
   "language": "python",
   "name": "python3"
  },
  "language_info": {
   "codemirror_mode": {
    "name": "ipython",
    "version": 3
   },
   "file_extension": ".py",
   "mimetype": "text/x-python",
   "name": "python",
   "nbconvert_exporter": "python",
   "pygments_lexer": "ipython3",
   "version": "3.6.4"
  }
 },
 "nbformat": 4,
 "nbformat_minor": 1
}
